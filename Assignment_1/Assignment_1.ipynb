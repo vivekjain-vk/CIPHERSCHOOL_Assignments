{
 "cells": [
  {
   "cell_type": "code",
   "execution_count": 2,
   "metadata": {},
   "outputs": [
    {
     "name": "stdout",
     "output_type": "stream",
     "text": [
      "Enter number of elements you want to Enter : 6\n",
      "Enter the numbers : 4 5 6 8 4 5\n",
      "[4, 5, 6, 8]\n"
     ]
    }
   ],
   "source": [
    "# Q1\n",
    "n = int(input(\"Enter number of elements you want to Enter : \"))\n",
    "l = list(map(int,input(\"Enter the numbers : \").strip().split()))[:n]\n",
    "l1 = list(set(l))\n",
    "l1.sort()\n",
    "print(l1)"
   ]
  },
  {
   "cell_type": "code",
   "execution_count": 3,
   "metadata": {},
   "outputs": [
    {
     "name": "stdout",
     "output_type": "stream",
     "text": [
      "Enter number of elements you want to Enter : 6\n",
      "Enter the numbers : 4 5 6 8 4 5\n",
      "The Length of Tuple is:  6\n",
      "sum of all the elements of a tuple is :  32\n",
      "The largest = 8 and smallest = 4 elements of a tuple\n"
     ]
    }
   ],
   "source": [
    "# Q2\n",
    "n = int(input(\"Enter number of elements you want to Enter : \"))\n",
    "tup = tuple(map(int,input(\"Enter the numbers : \").strip().split()))[:n]\n",
    "print(\"The Length of Tuple is: \",len(tup))\n",
    "print(\"sum of all the elements of a tuple is : \", sum(tup))\n",
    "print(f\"The largest = {max(tup)} and smallest = {min(tup)} elements of a tuple\")"
   ]
  },
  {
   "cell_type": "code",
   "execution_count": 4,
   "metadata": {},
   "outputs": [
    {
     "name": "stdout",
     "output_type": "stream",
     "text": [
      "Enter The Number: 13\n",
      "Enter The bit you wnat to change: 1\n",
      "15\n"
     ]
    }
   ],
   "source": [
    "# Q3\n",
    "num = int(input(\"Enter The Number: \"))\n",
    "i = int(input(\"Enter The bit you wnat to change: \"))\n",
    "print((1 << i) | num)"
   ]
  },
  {
   "cell_type": "code",
   "execution_count": 5,
   "metadata": {},
   "outputs": [
    {
     "name": "stdout",
     "output_type": "stream",
     "text": [
      "Enter the no.: 12\n",
      "12 is even\n"
     ]
    }
   ],
   "source": [
    "# Q4\n",
    "n = int(input('Enter the no.: '))\n",
    "n1 = n & 1\n",
    "c = [\"even\", \"odd\"]\n",
    "print(n,'is',c[n1])"
   ]
  },
  {
   "cell_type": "code",
   "execution_count": 6,
   "metadata": {},
   "outputs": [
    {
     "name": "stdout",
     "output_type": "stream",
     "text": [
      "The megred List is:  [2, 3, 4, 9, 10, 11, 12, 15, 16, 22, 37, 46, 80]\n"
     ]
    }
   ],
   "source": [
    "# Q5\n",
    "A = [10,2,37,16,15,22]\n",
    "B = [3,80,4,9,12,11,46]\n",
    "C = A + B\n",
    "C.sort()\n",
    "print(\"The megred List is: \",C)"
   ]
  },
  {
   "cell_type": "code",
   "execution_count": 8,
   "metadata": {},
   "outputs": [
    {
     "name": "stdout",
     "output_type": "stream",
     "text": [
      "Enter the Student Name: Berlin\n",
      "Enter Marks: 20\n",
      "Enter the Student Name: Oslo\n",
      "Enter Marks: 0\n",
      "Enter the Student Name: Nairobi\n",
      "Enter Marks: 100\n",
      "Enter the Student Name: Vievk\n",
      "Enter Marks: 80\n",
      "Enter the Student Name: Moscow\n",
      "Enter Marks: 10\n",
      "[('Oslo', 0), ('Moscow', 10), ('Berlin', 20), ('Vievk', 80), ('Nairobi', 100)]\n"
     ]
    }
   ],
   "source": [
    "# Q6\n",
    "dic = {}\n",
    "name = input(\"Enter the Student Name: \")\n",
    "dic[name] = int(input(\"Enter Marks: \"))\n",
    "name = input(\"Enter the Student Name: \")\n",
    "dic[name] = int(input(\"Enter Marks: \"))\n",
    "name = input(\"Enter the Student Name: \")\n",
    "dic[name] = int(input(\"Enter Marks: \"))\n",
    "name = input(\"Enter the Student Name: \")\n",
    "dic[name] = int(input(\"Enter Marks: \"))\n",
    "name = input(\"Enter the Student Name: \")\n",
    "dic[name] = int(input(\"Enter Marks: \"))\n",
    "d=sorted(dic.items(), key=lambda x: x[1])\n",
    "print(d)"
   ]
  }
 ],
 "metadata": {
  "kernelspec": {
   "display_name": "Python 3",
   "language": "python",
   "name": "python3"
  },
  "language_info": {
   "codemirror_mode": {
    "name": "ipython",
    "version": 3
   },
   "file_extension": ".py",
   "mimetype": "text/x-python",
   "name": "python",
   "nbconvert_exporter": "python",
   "pygments_lexer": "ipython3",
   "version": "3.7.3"
  }
 },
 "nbformat": 4,
 "nbformat_minor": 4
}
